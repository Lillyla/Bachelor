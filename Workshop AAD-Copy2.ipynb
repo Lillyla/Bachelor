{
 "cells": [
  {
   "cell_type": "markdown",
   "metadata": {},
   "source": [
    "### Creating classes\n",
    "Create classes and complete the blanks with proper implementation of 'grad' and 'value' functions"
   ]
  },
  {
   "cell_type": "code",
   "execution_count": 526,
   "metadata": {},
   "outputs": [],
   "source": [
    "from collections import defaultdict\n",
    "from math import sqrt\n",
    "import numpy as np\n",
    "from scipy.stats import norm\n",
    "from tqdm import tqdm"
   ]
  },
  {
   "cell_type": "code",
   "execution_count": 286,
   "metadata": {},
   "outputs": [],
   "source": [
    "class Derivative:\n",
    "    \"\"\" Enabling the usage of +, *, -, etc. \"\"\"\n",
    "    def __add__(self, other):\n",
    "        return Add(self, other)\n",
    "    \n",
    "    def __radd__(self, other):\n",
    "        return rAdd(self, other)\n",
    "    \n",
    "    def __sub__(self, other):\n",
    "        return Sub(self, other)\n",
    "\n",
    "    def __rsub__(self, other):\n",
    "        return rSub(self, other)\n",
    "    \n",
    "    def __mul__(self, other):\n",
    "        return Mul(self, other)\n",
    "    \n",
    "    def __rmul__(self, other):\n",
    "        return rMul(self, other)\n",
    "    \n",
    "    def __truediv__(self, other):\n",
    "        return Div(self, other)\n",
    "\n",
    "    def __rtruediv__(self, other):\n",
    "        return rDiv(self, other)\n",
    "   \n",
    "    def Sin(self):\n",
    "        return Sin(self)\n",
    "    \n",
    "    def __pow__(self, power):\n",
    "        return Pow(self, power)\n",
    "    \n",
    "    def Exp(self):\n",
    "        return Exp(self)\n",
    "    \n",
    "    def Cdf(self):\n",
    "        return Cdf(self)\n",
    "    \n",
    "    def __ge__(self, other):\n",
    "        return Ge(self, other)\n",
    "    \n",
    "    def __le__(self, other):\n",
    "        return Le(self, other)\n",
    "    \n",
    "    def __hash__(self):                 # we need this for creating the dictionary with keys as Derivatives object\n",
    "        return hash(str(self))"
   ]
  },
  {
   "cell_type": "markdown",
   "metadata": {},
   "source": [
    "Leaf nodes"
   ]
  },
  {
   "cell_type": "code",
   "execution_count": 287,
   "metadata": {},
   "outputs": [],
   "source": [
    "class Var(Derivative):\n",
    "    \"\"\" A leaf node (a node which doesn't have any child) \"\"\"\n",
    "    \n",
    "    def __init__(self, value):\n",
    "        self.value = value      # the scalar value of the node"
   ]
  },
  {
   "cell_type": "code",
   "execution_count": 288,
   "metadata": {},
   "outputs": [],
   "source": [
    "class Ge(Derivative):\n",
    "    \"\"\" >= \"\"\"\n",
    "            \n",
    "    def __init__(self, node_a, node_b):\n",
    "        if isinstance(node_a, (int, float)): \n",
    "            self.value = node_a >= node_b.value\n",
    "        elif isinstance(node_b, (int, float)): \n",
    "            self.value = node_a.value >= node_b\n",
    "        else:      \n",
    "            self.value = node_a.value >= node_b.value"
   ]
  },
  {
   "cell_type": "code",
   "execution_count": 289,
   "metadata": {},
   "outputs": [],
   "source": [
    "class Le(Derivative):\n",
    "    \"\"\" <= \"\"\"\n",
    "\n",
    "    def __init__(self, node_a, node_b):\n",
    "        if isinstance(node_a, (int, float)): \n",
    "            self.value = node_a <= node_b.value\n",
    "        elif isinstance(node_b, (int, float)): \n",
    "            self.value = node_a.value <= node_b\n",
    "        else:      \n",
    "            self.value = node_a.value <= node_b.value"
   ]
  },
  {
   "cell_type": "markdown",
   "metadata": {},
   "source": [
    "Adding the nodes"
   ]
  },
  {
   "cell_type": "code",
   "execution_count": 290,
   "metadata": {},
   "outputs": [],
   "source": [
    "class Add(Derivative):\n",
    "    \"\"\" The node that results from adding two nodes \"\"\"\n",
    "    def __init__(self, node_a, node_b):\n",
    "        if isinstance(node_a, (int, float)): \n",
    "            self.value = node_a + node_b.value\n",
    "            self.grad = [(node_b, 1)]\n",
    "        elif isinstance(node_b, (int, float)): \n",
    "            self.value = node_a.value + node_b\n",
    "            self.grad = [(node_a, 1)]\n",
    "        else:      \n",
    "            self.value = node_a.value + node_b.value    # value of the node\n",
    "            self.grad = [(node_a, 1), (node_b, 1)]      # partial derivatives of nodes - value 1 for derivative in respect to node_a and 1 for node_b"
   ]
  },
  {
   "cell_type": "code",
   "execution_count": 291,
   "metadata": {},
   "outputs": [],
   "source": [
    "class rAdd(Derivative):\n",
    "    \"\"\" The node that results from adding two nodes \"\"\"\n",
    "    def __init__(self, node_a, node_b):\n",
    "        if isinstance(node_a, (int, float)): \n",
    "            self.value = node_a + node_b.value\n",
    "            self.grad = [(node_b, 1)]\n",
    "        elif isinstance(node_b, (int, float)): \n",
    "            self.value = node_a.value + node_b\n",
    "            self.grad = [(node_a, 1)]\n",
    "        else:      \n",
    "            self.value = node_a.value + node_b.value    # value of the node\n",
    "            self.grad = [(node_a, 1), (node_b, 1)]      # partial derivatives of nodes - value 1 for derivative in respect to node_a and 1 for node_b"
   ]
  },
  {
   "cell_type": "markdown",
   "metadata": {},
   "source": [
    "Substract the nodes"
   ]
  },
  {
   "cell_type": "code",
   "execution_count": 292,
   "metadata": {},
   "outputs": [],
   "source": [
    "class Sub(Derivative):\n",
    "    \"\"\" The node that results from subtracting two nodes \"\"\"\n",
    "    def __init__(self, node_a, node_b):\n",
    "        if isinstance(node_a, (int, float)): \n",
    "            self.value = node_a - node_b.value\n",
    "            self.grad = [(node_b, -1)]\n",
    "        elif isinstance(node_b, (int, float)): \n",
    "            self.value = node_a.value - node_b\n",
    "            self.grad = [(node_a, 1)]\n",
    "        else:      \n",
    "            self.value = node_a.value - node_b.value    # value of the node\n",
    "            self.grad = [(node_a, 1), (node_b, -1)]     # partial derivatives of nodes - should have again the structure as [(node_a, value), (node_b, value)]"
   ]
  },
  {
   "cell_type": "code",
   "execution_count": 293,
   "metadata": {},
   "outputs": [],
   "source": [
    "class rSub(Derivative):\n",
    "    \"\"\" The node that results from subtracting two nodes \"\"\"\n",
    "    def __init__(self, node_a, node_b):\n",
    "        if isinstance(node_a, (int, float)): \n",
    "            self.value = node_a - node_b.value\n",
    "            self.grad = [(node_b, -1)]\n",
    "        elif isinstance(node_b, (int, float)): \n",
    "            self.value = node_a.value - node_b\n",
    "            self.grad = [(node_a, 1)]\n",
    "        else:      \n",
    "            self.value = node_a.value - node_b.value    # value of the node\n",
    "            self.grad = [(node_a, 1), (node_b, -1)]     # partial derivatives of nodes - should have again the structure as [(node_a, value), (node_b, value)]"
   ]
  },
  {
   "cell_type": "markdown",
   "metadata": {},
   "source": [
    "Multiplication of nodes"
   ]
  },
  {
   "cell_type": "code",
   "execution_count": 403,
   "metadata": {},
   "outputs": [],
   "source": [
    "class Mul(Derivative):\n",
    "    \"\"\" The node that results from multiplying two nodes \"\"\"\n",
    "    def __init__(self, node_a, node_b):\n",
    "        if isinstance(node_a, (int, float, np.ndarray)): \n",
    "            self.value = node_a * node_b.value\n",
    "            self.grad = [(node_b, node_a)]\n",
    "        elif isinstance(node_b, (int, float, np.ndarray)): \n",
    "            self.value = node_a.value * node_b\n",
    "            self.grad = [(node_a, node_b)]\n",
    "        else:      \n",
    "            self.value = node_a.value * node_b.value\n",
    "            self.grad = [(node_a, node_b.value), (node_b, node_a.value)]        # f = x*y   df / dx = y   df / dy = x"
   ]
  },
  {
   "cell_type": "code",
   "execution_count": 404,
   "metadata": {},
   "outputs": [],
   "source": [
    "class rMul(Derivative):\n",
    "    \"\"\" The node that results from multiplying two nodes \"\"\"\n",
    "    def __init__(self, node_a, node_b):\n",
    "        if isinstance(node_a, (int, float, np.ndarray)): \n",
    "            self.value = node_a * node_b.value\n",
    "            self.grad = [(node_b, node_a)]\n",
    "        elif isinstance(node_b, (int, float, np.ndarray)): \n",
    "            self.value = node_a.value * node_b\n",
    "            self.grad = [(node_a, node_b)]\n",
    "        else:      \n",
    "            self.value = node_a.value * node_b.value\n",
    "            self.grad = [(node_a, node_b.value), (node_b, node_a.value)]                                # f = x*y   df / dx = y   df / dy = x"
   ]
  },
  {
   "cell_type": "markdown",
   "metadata": {},
   "source": [
    "Dividing nodes"
   ]
  },
  {
   "cell_type": "code",
   "execution_count": 405,
   "metadata": {},
   "outputs": [],
   "source": [
    "class Div(Derivative):\n",
    "    \"\"\" The node that results from dividing one node by another \"\"\"\n",
    "    def __init__(self, node_a, node_b):\n",
    "        if isinstance(node_a, (int, float)): \n",
    "            self.value = node_a / node_b.value\n",
    "            self.grad = [(node_b, -node_a/(node_b.value**2))]\n",
    "        elif isinstance(node_b, (int, float)): \n",
    "            self.value = node_a.value / node_b\n",
    "            self.grad = [(node_a, 1/node_b)]\n",
    "        else:      \n",
    "            self.value = node_a.value / node_b.value\n",
    "            self.grad = [(node_a, 1/node_b.value), (node_b, -node_a.value/(node_b.value**2))]           # f = x/y   df / dx = 1/y    df / dy = -x / (y^2)"
   ]
  },
  {
   "cell_type": "code",
   "execution_count": 406,
   "metadata": {},
   "outputs": [],
   "source": [
    "class rDiv(Derivative):\n",
    "    \"\"\" The node that results from dividing one node by another \"\"\"\n",
    "    def __init__(self, node_a, node_b):\n",
    "        if isinstance(node_a, (int, float)): \n",
    "            self.value = node_a / node_b.value\n",
    "            self.grad = [(node_b, -node_a/(node_b.value**2))]\n",
    "        elif isinstance(node_b, (int, float)): \n",
    "            self.value = node_a.value / node_b\n",
    "            self.grad = [(node_a, 1/node_b)]\n",
    "        else:      \n",
    "            self.value = node_a.value / node_b.value\n",
    "            self.grad = [(node_a, 1/node_b.value), (node_b, -node_a.value/(node_b.value**2))]           # f = x/y   df / dx = 1/y    df / dy = -x / (y^2)"
   ]
  },
  {
   "cell_type": "markdown",
   "metadata": {},
   "source": [
    "Logarithm of one mode"
   ]
  },
  {
   "cell_type": "code",
   "execution_count": 407,
   "metadata": {},
   "outputs": [],
   "source": [
    "class Log(Derivative):\n",
    "    \"\"\" The node that results from sin(node) \"\"\"\n",
    "    \n",
    "    def __init__(self, node):\n",
    "        if isinstance(node, (int, float)): \n",
    "            self.value = np.log(node) \n",
    "            self.grad = [(node, 0)]\n",
    "        else:\n",
    "            self.value = np.log(node.value)                          \n",
    "            self.grad = [(node, 1/node.value)]                 "
   ]
  },
  {
   "cell_type": "markdown",
   "metadata": {},
   "source": [
    "Sinus of one node"
   ]
  },
  {
   "cell_type": "code",
   "execution_count": 408,
   "metadata": {},
   "outputs": [],
   "source": [
    "class Sin(Derivative):\n",
    "    \"\"\" The node that results from sin(node) \"\"\"\n",
    "    \n",
    "    def __init__(self, node):\n",
    "        if isinstance(node, (int, float)): \n",
    "            self.value = np.sin(node) \n",
    "            self.grad = [(node, 0)]\n",
    "        else:\n",
    "            self.value = np.sin(node.value)                          # use np.sin() function\n",
    "            self.grad = [(node, np.cos(node.value))]                 # only one derivative, since it takes only one node - use np.cos() function"
   ]
  },
  {
   "cell_type": "markdown",
   "metadata": {},
   "source": [
    "Cosinus of one node"
   ]
  },
  {
   "cell_type": "code",
   "execution_count": 409,
   "metadata": {},
   "outputs": [],
   "source": [
    "class Cos(Derivative):\n",
    "    \"\"\" The node that results from cos(node) \"\"\"\n",
    "    \n",
    "    def __init__(self, node):\n",
    "        if isinstance(node, (int, float)): \n",
    "            self.value = np.cos(node)\n",
    "            self.grad = [(node, 0)]\n",
    "        else:\n",
    "            self.value = np.cos(node.value)                          \n",
    "            self.grad = [(node, -np.sin(node.value))]                "
   ]
  },
  {
   "cell_type": "markdown",
   "metadata": {},
   "source": [
    "Powers"
   ]
  },
  {
   "cell_type": "code",
   "execution_count": 410,
   "metadata": {},
   "outputs": [],
   "source": [
    "class Pow(Derivative):\n",
    "    \"\"\" The node that results as node ^ power \"\"\"\n",
    "    \n",
    "    def __init__(self, node, power):\n",
    "        if isinstance(node, (int, float)): \n",
    "            self.value = node**power  \n",
    "            self.grad = [(node, 0)]\n",
    "        else:\n",
    "            self.value = node.value**power                                         # reminder of power operation in python: **\n",
    "            self.grad = [(node, power*node.value**(power-1))]                      # (one derivative)    f = x^n   df/dx = n * x ^ (n-1)"
   ]
  },
  {
   "cell_type": "markdown",
   "metadata": {},
   "source": [
    "Exponential"
   ]
  },
  {
   "cell_type": "code",
   "execution_count": 411,
   "metadata": {},
   "outputs": [],
   "source": [
    "class Exp(Derivative):\n",
    "    \"\"\" The node that results from exp(node) \"\"\"\n",
    "\n",
    "    def __init__(self, node):\n",
    "        if isinstance(node, (int, float)): \n",
    "            self.value = np.exp(node)  \n",
    "            self.grad = [(node, 0)]\n",
    "        else:\n",
    "            self.value = np.exp(node.value)                         \n",
    "            self.grad = [(node, np.exp(node.value))]   "
   ]
  },
  {
   "cell_type": "code",
   "execution_count": 420,
   "metadata": {},
   "outputs": [],
   "source": [
    "class ExpK(Derivative):\n",
    "    \"\"\" The node that results from exp(k*node) \"\"\"\n",
    "    \n",
    "    def __init__(self, node, k):\n",
    "        if isinstance(node, (int, float)): \n",
    "            self.value = np.exp(k * node)  \n",
    "            self.grad = [(node, 0)]\n",
    "        else:\n",
    "            self.value = np.exp(k*node.value)                          \n",
    "            self.grad = [(node, k*np.exp(k*node.value))]                "
   ]
  },
  {
   "cell_type": "markdown",
   "metadata": {},
   "source": [
    "Squareroot"
   ]
  },
  {
   "cell_type": "code",
   "execution_count": 443,
   "metadata": {},
   "outputs": [],
   "source": [
    "class Sqrt(Derivative):\n",
    "    \"\"\" The node that results from sqrt(node) \"\"\"\n",
    " \n",
    "    def __init__(self, node):\n",
    "        if isinstance(node, (int, float)): \n",
    "            self.value = np.sqrt(node)\n",
    "            self.grad = [(node, 0)]\n",
    "        else:\n",
    "            self.value = np.sqrt(node.value)                  \n",
    "            self.grad = [(node, 1/(2*np.sqrt(node.value)))]  "
   ]
  },
  {
   "cell_type": "markdown",
   "metadata": {},
   "source": [
    "$ a^x $"
   ]
  },
  {
   "cell_type": "code",
   "execution_count": 414,
   "metadata": {},
   "outputs": [],
   "source": [
    "class Pot(Derivative):\n",
    "    \"\"\" The node that results from a ^ node \"\"\"   \n",
    "    def __init__(self, a, node):\n",
    "        self.value = a**node.value                          \n",
    "        self.grad = [(node, a**node.value * np.log(a))]                "
   ]
  },
  {
   "cell_type": "markdown",
   "metadata": {},
   "source": [
    "Cdf"
   ]
  },
  {
   "cell_type": "code",
   "execution_count": 415,
   "metadata": {},
   "outputs": [],
   "source": [
    "class Cdf(Derivative):\n",
    "    \"\"\" The node that results from cdf(node) \"\"\"\n",
    "\n",
    "    def __init__(self, node):\n",
    "        if isinstance(node, (int, float)): \n",
    "            self.value = norm.cdf(node) \n",
    "            self.grad = [(node, 0)]\n",
    "        else:\n",
    "            self.value = norm.cdf(node.value)            \n",
    "            self.grad = [(node, norm.pdf(node.value))]"
   ]
  },
  {
   "cell_type": "markdown",
   "metadata": {},
   "source": [
    "### Create a function for getting the gradients values\n",
    "The algorithm will return a dictionary 'gradients' which will have the nodes as keys and partial derivatives in respect to that nodes as values\n",
    "so the structure will be e.g.:\n",
    "\n",
    "gradients = {x1: 1, w1: 14}\n",
    "\n",
    "We will go through the variable 'stack'. Stack will be a list of tuples (node, deriative).\n",
    "\n",
    "Let's assume we have such a graph:"
   ]
  },
  {
   "attachments": {
    "Picture1.png": {
     "image/png": "[encoded data removed]"
    }
   },
   "cell_type": "markdown",
   "metadata": {},
   "source": [
    "![Picture1.png](attachment:Picture1.png)"
   ]
  },
  {
   "cell_type": "markdown",
   "metadata": {},
   "source": [
    "1. First, stack will be assigned with child nodes of the parent node\n",
    "\n",
    "        stack = N0.grad\n",
    "\n",
    "        stack = [ (N1,  dN0 / dN1),  (N2,  dN0 / dN2) ]\n",
    "        \n",
    "\n",
    "2. We will take the last element from the stack \n",
    "\n",
    "        stack = [ (N1,  dN0 / dN1) ]\n",
    "        \n",
    "        \n",
    "    and save it in variables 'node' and 'node_derivative'\n",
    "\n",
    "        node = N2\n",
    "\n",
    "        node_derivative = dN0 / dN2\n",
    "        \n",
    "    \n",
    "    then add the node_derivative to the gradients[node]\n",
    "\n",
    "        gradients[node] = gradients[node] + node_derivative\n",
    "        \n",
    "        gradients[N2] = dN0 / dN2\n",
    "        \n",
    "\n",
    "3. If 'node' has children nodes, iterate through them AND append them onto a stack with their derivative multiplied by 'node_derivative'\n",
    "\n",
    "    * child_node = N3,    child_node_derivative = dN2 / dN3\n",
    "\n",
    "            stack = [ (N1,  dN0 / dN1), (N3, dN2 / dN3 * dN0 / dN2) ]\n",
    "            \n",
    "            \n",
    "    * child_node = N4,    child_node_derivative = dN2 / dN4\n",
    "\n",
    "            stack = [ (N1,  dN0 / dN1), (N3, dN2 / dN3 * dN0 / dN2), (N4, dN2 / dN4 * dN0 / dN2) ]\n",
    "            \n",
    "            \n",
    "4. Take again last element from the stack and save in 'node' and 'node_derivative' and add 'node_derivative' to gradients[node]\n",
    "\n",
    "        stack = [ (N1,  dN0 / dN1), (N3, dN2 / dN3 * dN0 / dN2) ]\n",
    "\n",
    "        node = N4\n",
    "\n",
    "        node_derivative = dN2 / dN4 * dN0 / dN2\n",
    "\n",
    "        gradients[N4] = dN2 / dN4 * dN0 / dN2\n",
    "            \n",
    "\n",
    "5. N4 has no children, so do nothing\n",
    "\n",
    "6. Take again last element from the stack - repeat step 4 (fill in the blanks - you'll get better understanding):\n",
    "\n",
    "        stack = [ (N1,  dN0 / dN1) ]\n",
    "\n",
    "        node = N3\n",
    "\n",
    "        node_derivative = dN2 / dN3 * dN0 / dN2\n",
    "\n",
    "        gradients[N3] = dN2 / dN3 * dN0 / dN2\n",
    "            \n",
    "\n",
    "7. Iterate through children of node N3 - repeat step 3:\n",
    "\n",
    "        * child_node = N5,    child_node_derivative = dN3 / dN5\n",
    "\n",
    "            stack = [ (N1,  dN0 / dN1), (N5, dN3 / dN5 * dN2 / dN3 * dN0 / dN2) ]\n",
    "            \n",
    "\n",
    "8. What will be the next step?\n",
    "\n",
    "        stack = [ (N1,  dN0 / dN1) ]\n",
    "\n",
    "        node = N5\n",
    "\n",
    "        node_derivative = dN3 / dN5 * dN2 / dN3 * dN0 / dN2\n",
    "\n",
    "        gradients[N5] = dN3 / dN5 * dN2 / dN3 * dN0 / dN2\n",
    "        \n",
    "        \n",
    "9. Does N5 have children? \n",
    "\n",
    "        * No\n",
    "\n",
    "10. What is the next step?\n",
    "\n",
    "        stack = []\n",
    "\n",
    "        node = N1\n",
    "\n",
    "        node_derivative = dN0 / dN1\n",
    "\n",
    "        gradients[N1] = dN0 / dN1\n",
    "        \n",
    "        \n",
    "11. What is the next step? When do we end?"
   ]
  },
  {
   "cell_type": "code",
   "execution_count": 362,
   "metadata": {},
   "outputs": [],
   "source": [
    "def Get_Gradient(parent_node):\n",
    "    \"\"\" Go down the graph, and compute derivative of `parent_node` with respect to each node \"\"\"\n",
    "    \n",
    "    # we will create a dictionary 'gradient' which will have the nodes as keys and its derivatives as values\n",
    "    gradients = defaultdict(lambda: 0)    # initialize the dictionary so when calling a non-existing key the value of 0 is assigned\n",
    "    \n",
    "    # stack will represent the list of tuples (node, node_derivative) \n",
    "    stack = parent_node.grad.copy()     \n",
    "    \n",
    "    while stack:                             # loop for each different branch\n",
    "        # get node and node_derivative from the top of the stack - function pop()\n",
    "        temp = stack.pop()                   \n",
    "        node = temp[0]\n",
    "        node_derivative = temp[1]            \n",
    "        # add to the value of derivative of the node (gradients[node]) value node_derivative\n",
    "        gradients[node] = gradients[node] + node_derivative  \n",
    "        \n",
    "        if not isinstance(node, Var):        # if the node has children, put them onto the stack\n",
    "            # loop for each node in one branch\n",
    "            for child_node, child_node_derivative in node.grad:                   \n",
    "                # append child_node and child_node_derivative * node_derivative to the stack\n",
    "                stack.append((child_node, child_node_derivative * node_derivative))\n",
    "                \n",
    "    return dict(gradients)"
   ]
  },
  {
   "cell_type": "code",
   "execution_count": 363,
   "metadata": {},
   "outputs": [],
   "source": [
    "# ## Printtest\n",
    "\n",
    "# def Get_Gradient_Print(parent_node):\n",
    "#     \"\"\" Go down the graph, and compute derivative of `parent_node` with respect to each node \"\"\"\n",
    "    \n",
    "#     # we will create a dictionary 'gradient' which will have the nodes as keys and its derivatives as values\n",
    "#     gradients = defaultdict(lambda: 0)    # initialize the dictionary so when calling a non-existing key the value of 0 is assigned\n",
    "    \n",
    "#     # stack will represent the list of tuples (node, node_derivative) \n",
    "#     stack = parent_node.grad.copy()     \n",
    "#     print(\"Parent: \", parent_node,\", Grad: \", parent_node.grad)\n",
    "    \n",
    "#     while stack:                             # loop for each different branch\n",
    "#         # get node and node_derivative from the top of the stack - function pop()\n",
    "#         temp = stack.pop()                   \n",
    "#         node = temp[0]\n",
    "#         node_derivative = temp[1]  \n",
    "#         print(\"Type: \", node,\", Grad: \", node_derivative)\n",
    "#         # add to the value of derivative of the node (gradients[node]) value node_derivative\n",
    "#         gradients[node] = gradients[node] + node_derivative  \n",
    "        \n",
    "#         if not isinstance(node, Var):        # if the node has children, put them onto the stack\n",
    "#             # loop for each node in one branch\n",
    "#             for child_node, child_node_derivative in node.grad:                   \n",
    "#                 # append child_node and child_node_derivative * node_derivative to the stack\n",
    "#                 stack.append((child_node, child_node_derivative * node_derivative))\n",
    "#                 print(\"Child-type: \", child_node,\", Grad: \", child_node_derivative)\n",
    "                \n",
    "#     return dict(gradients)"
   ]
  },
  {
   "cell_type": "markdown",
   "metadata": {},
   "source": [
    "### Test the function\n",
    "#### 1. Example\n",
    "\n",
    "$$ f(x_1, x_2, x_3) = \\sin(x_2 + {x_1}^2) \\frac{x_3 - x_1}{x_2} $$\n",
    "\n",
    "$$ \\frac{\\partial f}{\\partial x_1} = \\sin(x_2 + {x_1}^2) (- \\frac{1}{x_2}) + \\frac{x_3-x_1}{x_2} \\cos(x_2 + {x_1}^2) 2x_1 $$"
   ]
  },
  {
   "cell_type": "code",
   "execution_count": 364,
   "metadata": {},
   "outputs": [],
   "source": [
    "def f(x1, x2, x3):\n",
    "    if type(x1) == int:                                           # check if type of arguments (any argument) is int - then return the equation with np.sin, otherwise Sin\n",
    "        return np.sin(x2 + x1**2) * ((x3 - x1) / x2)\n",
    "    return Sin(x2 + x1**2) * ((x3 - x1) / x2)\n",
    "\n",
    "def part_f_x1(x1, x2, x3):\n",
    "    return np.sin(x2 + x1**2) * (-1 / x2) + ((x3 - x1)/x2 * np.cos(x2 + x1**2) * 2 * x1)\n",
    "\n",
    "def part_f_x2(x1, x2, x3):\n",
    "    return (1/x2)*(x3-x1)*np.cos(x2+x1**2)-(1/x2**2)*(x3-x1)*np.sin(x2+x1**2)\n",
    "\n",
    "def part_f_x3(x1, x2, x3):\n",
    "    return (1/x2)*np.sin(x2+x1**2)"
   ]
  },
  {
   "attachments": {
    "Picture2.png": {
     "image/png": "[encoded data removed]"
    }
   },
   "cell_type": "markdown",
   "metadata": {},
   "source": [
    "![Picture2.png](attachment:Picture2.png)"
   ]
  },
  {
   "attachments": {
    "Picture5.png": {
     "image/png": "[encoded data removed]"
    }
   },
   "cell_type": "markdown",
   "metadata": {},
   "source": [
    "![Picture5.png](attachment:Picture5.png)"
   ]
  },
  {
   "cell_type": "code",
   "execution_count": 365,
   "metadata": {},
   "outputs": [],
   "source": [
    "# assign the values\n",
    "x1_val = 2\n",
    "x2_val = 1\n",
    "x3_val = 3"
   ]
  },
  {
   "cell_type": "code",
   "execution_count": 366,
   "metadata": {},
   "outputs": [
    {
     "name": "stdout",
     "output_type": "stream",
     "text": [
      "Value of f equals -0.9589242746631385\n",
      "The partial derivative of y with respect to x1 = 2.0935730165160438\n",
      "The partial derivative of y with respect to x2 = 1.2425864601263648\n",
      "The partial derivative of y with respect to x3 = -0.9589242746631385\n"
     ]
    }
   ],
   "source": [
    "x1 = Var(x1_val)\n",
    "x2 = Var(x2_val)\n",
    "x3 = Var(x3_val)\n",
    "\n",
    "y = f(x1, x2, x3)\n",
    "gradients = Get_Gradient(y)\n",
    "\n",
    "print('Value of f equals', y.value)\n",
    "print('The partial derivative of y with respect to x1 =', gradients[x1])\n",
    "print('The partial derivative of y with respect to x2 =', gradients[x2])\n",
    "print('The partial derivative of y with respect to x3 =', gradients[x3])"
   ]
  },
  {
   "cell_type": "code",
   "execution_count": 367,
   "metadata": {},
   "outputs": [
    {
     "name": "stdout",
     "output_type": "stream",
     "text": [
      "[Manual way] Value of f equals -0.9589242746631385\n",
      "[Manual way] Value of partial derivative of f with respect to x1 equals 2.0935730165160438\n",
      "[Manual way] Value of partial derivative of f with respect to x2 equals 1.2425864601263648\n",
      "[Manual way] Value of partial derivative of f with respect to x3 equals -0.9589242746631385\n"
     ]
    }
   ],
   "source": [
    "print('[Manual way] Value of f equals', f(x1_val, x2_val, x3_val))\n",
    "print('[Manual way] Value of partial derivative of f with respect to x1 equals', part_f_x1(x1_val, x2_val, x3_val))\n",
    "print('[Manual way] Value of partial derivative of f with respect to x2 equals', part_f_x2(x1_val, x2_val, x3_val))\n",
    "print('[Manual way] Value of partial derivative of f with respect to x3 equals', part_f_x3(x1_val, x2_val, x3_val))"
   ]
  },
  {
   "cell_type": "markdown",
   "metadata": {},
   "source": [
    "## Test: Black-Scholes"
   ]
  },
  {
   "cell_type": "code",
   "execution_count": 368,
   "metadata": {},
   "outputs": [],
   "source": [
    "import numpy as np\n",
    "import random\n",
    "import matplotlib.pyplot as plt\n",
    "from matplotlib import style \n",
    "style.use('ggplot')\n",
    "from scipy.stats import norm\n",
    "import scipy"
   ]
  },
  {
   "cell_type": "code",
   "execution_count": 436,
   "metadata": {},
   "outputs": [],
   "source": [
    "def euro_call(S0, K, T, r, sigma):\n",
    "    d1 = (Log(S0/K)+(r+1/2*(sigma**2))*T)/(sigma*Sqrt(T))\n",
    "    d2 = d1 - sigma*Sqrt(T)\n",
    "    return S0 * Cdf(d1)  - K * Exp((-1)*r * T) * Cdf(d2)"
   ]
  },
  {
   "cell_type": "code",
   "execution_count": 495,
   "metadata": {},
   "outputs": [],
   "source": [
    "S0_val = 100\n",
    "K_val = 100\n",
    "T_val = 1\n",
    "r_val = 0.07\n",
    "sigma_val = 0.2\n",
    "n_simulations = 1000\n",
    "n_steps = 252"
   ]
  },
  {
   "cell_type": "code",
   "execution_count": 496,
   "metadata": {
    "scrolled": false
   },
   "outputs": [
    {
     "name": "stdout",
     "output_type": "stream",
     "text": [
      "Value of f equals 11.541470170672412\n",
      "The partial derivative of y with respect to S0 = 0.6736447797120796\n",
      "The partial derivative of y with respect to K = -0.5582300780053555\n",
      "The partial derivative of y with respect to T = 7.512880170653974\n",
      "The partial derivative of y with respect to r = 55.82300780053558\n",
      "The partial derivative of y with respect to sigma = 36.05269624616482\n"
     ]
    }
   ],
   "source": [
    "S0 = Var(S0_val)\n",
    "K = Var(K_val)\n",
    "T = Var(T_val)\n",
    "r = Var(r_val)\n",
    "sigma = Var(sigma_val)\n",
    "\n",
    "y = euro_call(S0, K, T, r, sigma)\n",
    "gradients = Get_Gradient(y)\n",
    "\n",
    "print('Value of f equals', y.value)\n",
    "print('The partial derivative of y with respect to S0 =', gradients[S0])\n",
    "print('The partial derivative of y with respect to K =', gradients[K])\n",
    "print('The partial derivative of y with respect to T =', gradients[T])\n",
    "print('The partial derivative of y with respect to r =', gradients[r])\n",
    "print('The partial derivative of y with respect to sigma =', gradients[sigma])"
   ]
  },
  {
   "cell_type": "code",
   "execution_count": 527,
   "metadata": {},
   "outputs": [],
   "source": [
    "K_val = 100\n",
    "T_val = 1\n",
    "r_val = 0.07\n",
    "n_simulations = 1000\n",
    "n_steps = 252\n",
    "S0_val = 100\n",
    "sigma_val = 0.2\n",
    "\n",
    "K = Var(K_val)\n",
    "T = Var(T_val)\n",
    "r = Var(r_val)\n",
    "S0 = Var(S0_val)\n",
    "sigma = Var(sigma_val)"
   ]
  },
  {
   "cell_type": "code",
   "execution_count": 528,
   "metadata": {},
   "outputs": [
    {
     "data": {
      "text/plain": [
       "1"
      ]
     },
     "execution_count": 528,
     "metadata": {},
     "output_type": "execute_result"
    }
   ],
   "source": [
    "#S0 = 100\n",
    "#K = 90\n",
    "#mu = 0.09\n",
    "#sigma = 0.5\n",
    "#n_simulations = 1000\n",
    "timeline = np.array([1])\n",
    "dt = np.diff(timeline,prepend =0)\n",
    "Z = np.random.normal (0 , 1 , size = (n_simulations , len(timeline)))\n",
    "len(Z[0,:])\n",
    "#d1 = mu - (sigma **2) / 2\n",
    "#d2 = d1 * dt + sigma * np.sqrt (dt) * Z\n",
    "\n",
    "#S = np.hstack ([S0 * np.ones(( n_simulations , 1) ) , np.exp ( d2 ) ]).cumprod ( axis = 1)"
   ]
  },
  {
   "cell_type": "code",
   "execution_count": 529,
   "metadata": {},
   "outputs": [],
   "source": [
    "def Price_European_Option(S0, K, T, r, sigma, Z):\n",
    "    d1 = r - (sigma**2) / 2\n",
    "    d2 = d1 * T + sigma * Sqrt(T) * Z \n",
    "    S0 = S0 * Exp(d2)\n",
    "    if ((S0 - K).value >=0) == True:\n",
    "        \n",
    "        return (S0 - K) * Exp( -(1)* r * T )\n",
    "    else:\n",
    "        \n",
    "        return (S0 - K) * 0 * Exp( -(1)* r * T )\n"
   ]
  },
  {
   "cell_type": "code",
   "execution_count": 530,
   "metadata": {},
   "outputs": [
    {
     "name": "stderr",
     "output_type": "stream",
     "text": [
      "\n",
      "\n",
      "\n",
      "\n",
      "\n",
      "  0%|          | 0/1000 [00:00<?, ?it/s]\u001b[A\u001b[A\u001b[A\u001b[A\u001b[A\n",
      "\n",
      "\n",
      "\n",
      "\n",
      "100%|██████████| 1000/1000 [00:00<00:00, 7239.35it/s][A\u001b[A\u001b[A\u001b[A\u001b[A"
     ]
    },
    {
     "name": "stdout",
     "output_type": "stream",
     "text": [
      "The partial derivative of y with respect to S0 = 0.020041177518113518\n",
      "The partial derivative of y with respect to K = -0.016500255463145264\n",
      "The partial derivative of y with respect to T = 0.25160270026442966\n",
      "The partial derivative of y with respect to r = 1.7130586344040708\n",
      "The partial derivative of y with respect to sigma = 1.3810873108258122\n"
     ]
    },
    {
     "name": "stderr",
     "output_type": "stream",
     "text": [
      "\n"
     ]
    }
   ],
   "source": [
    "gs = []\n",
    "gk = []\n",
    "gt = []\n",
    "gr = []\n",
    "gsigma=[]\n",
    "for i in tqdm(Z[:,0]):\n",
    "    y = Price_European_Option(S0, K, T, r,sigma, i)\n",
    "    gradients = Get_Gradient(y)\n",
    "    gs.append(gradients[S0])\n",
    "    gk.append(gradients[K])\n",
    "    gt.append(gradients[T]) \n",
    "    gr.append(gradients[r])\n",
    "    gsigma.append(gradients[sigma])\n",
    "\n",
    "#print('Value of f equals', y.value)\n",
    "print('The partial derivative of y with respect to S0 =', (0.6736537927736208-np.mean(gs)))\n",
    "print('The partial derivative of y with respect to K =', (-0.5582210648285013-np.mean(gk)))\n",
    "print('The partial derivative of y with respect to T =', (7.511817785889718-np.mean(gt)))\n",
    "print('The partial derivative of y with respect to r =', (55.88513957093966-np.mean(gr)))\n",
    "print('The partial derivative of y with respect to sigma =', (36.06278151150377 - np.mean(gsigma)))"
   ]
  },
  {
   "cell_type": "markdown",
   "metadata": {},
   "source": [
    "### Asiatisk AAD Test"
   ]
  },
  {
   "cell_type": "code",
   "execution_count": 531,
   "metadata": {},
   "outputs": [],
   "source": [
    "K_val = 100\n",
    "T_val = 1\n",
    "r_val = 0.07\n",
    "n_simulations = 2000\n",
    "n_steps = 252\n",
    "S0_val = 100\n",
    "sigma_val = 0.2\n",
    "\n",
    "K = Var(K_val)\n",
    "T = Var(T_val)\n",
    "r = Var(r_val)\n",
    "S0 = Var(S0_val)\n",
    "sigma = Var(sigma_val)"
   ]
  },
  {
   "cell_type": "code",
   "execution_count": 532,
   "metadata": {},
   "outputs": [],
   "source": [
    "timeline = np.arange(0, 1, 1/252)      \n",
    "Z = np.random.normal (0 , 1 , size = (n_simulations , len(timeline)))"
   ]
  },
  {
   "cell_type": "code",
   "execution_count": 533,
   "metadata": {},
   "outputs": [],
   "source": [
    "def Price_Asian_Option(S0, K, T, r, sigma, Z,j):\n",
    "    dt = T/n_steps\n",
    "    d1 = r - (sigma**2) / 2\n",
    "    F = S0\n",
    "    temp = 0\n",
    "    p = 0\n",
    "    temp1= 0\n",
    "    \n",
    "    for i in range(0,n_steps):\n",
    "        p += F\n",
    "        d2 = d1 * dt + sigma * Sqrt(dt) * Z[j,i]\n",
    "        temp = F * Exp(d2)\n",
    "        F = temp\n",
    "    S0 = p / n_steps\n",
    "   \n",
    "    if ((S0 - K).value >=0) == True: \n",
    "\n",
    "        return (S0 - K) * Exp( -(1)* r * T )\n",
    "    else:\n",
    "\n",
    "        return (S0 - K) * 0 * Exp( -(1)* r * T )\n",
    "   "
   ]
  },
  {
   "cell_type": "code",
   "execution_count": null,
   "metadata": {},
   "outputs": [],
   "source": [
    "gs = []\n",
    "gk = []\n",
    "gt = []\n",
    "gr = []\n",
    "gsigma=[]\n",
    "v=[]\n",
    "\n",
    "for j in tqdm(range(0,n_simulations)):\n",
    "    S0_val = 100\n",
    "    S0 = Var(S0_val)\n",
    "    y = Price_Asian_Option(S0, K, T, r, sigma, Z, j)\n",
    "    v.append(y.value)\n",
    "    gradients = Get_Gradient(y)\n",
    "    gs.append(gradients[S0])\n",
    "    gk.append(gradients[K])\n",
    "    gt.append(gradients[T]) \n",
    "    gr.append(gradients[r])\n",
    "    gsigma.append(gradients[sigma])\n",
    "\n",
    "print('Value of f equals', np.mean(v))\n",
    "print('The partial derivative of y with respect to S0 =', np.mean(gs))\n",
    "print('The partial derivative of y with respect to K =', np.mean(gk))\n",
    "print('The partial derivative of y with respect to T =', np.mean(gt))\n",
    "print('The partial derivative of y with respect to r =', np.mean(gr))\n",
    "print('The partial derivative of y with respect to sigma =', np.mean(gsigma))"
   ]
  },
  {
   "cell_type": "code",
   "execution_count": 481,
   "metadata": {},
   "outputs": [],
   "source": [
    "def BS_Price_Asian_Options(S0, K, T, r, sigma): \n",
    "    sigma_G = sigma / Sqrt(3)\n",
    "    b = (0.5) * (r - (0.5)*(sigma_G**2))\n",
    "    d1 = (Log(S0 / K) + (b + 0.5 * (sigma_G**2) ) * T)/ (sigma_G * Sqrt(T))\n",
    "    d2 = d1 - sigma_G*Sqrt(T)\n",
    "\n",
    "    asian_call = S0 * Exp( (b - r) * T) * Cdf(d1) - K * Exp (-(1) * r * T) * Cdf(d2)\n",
    "    \n",
    "    return asian_call"
   ]
  },
  {
   "cell_type": "markdown",
   "metadata": {},
   "source": [
    "$C_G = S_0 e^{(b-r)T} \\Phi(d_1) - K e^{-rT}\\Phi(d_2)$\n",
    "\n",
    "$\\sigma_G = \\frac{\\sigma}{\\sqrt{3}}$\n",
    "\n",
    "$b = \\frac{1}{2}(r-\\frac{1}{2} \\sigma_G^2)$\n",
    "\n",
    "$d_1 = \\frac{log(\\frac{S_0}{K})+(b+\\frac{1}{2}\\sigma_G^2)T}{\\sigma_G\\sqrt{T}}$\n",
    "\n",
    "$d_2 = d_1 - \\sigma_G \\sqrt{T}$"
   ]
  },
  {
   "cell_type": "code",
   "execution_count": 465,
   "metadata": {},
   "outputs": [],
   "source": [
    "def BS_Price_Asian_Options(S0, K, T, r, sigma):\n",
    "    \n",
    "    b = (1/2) * (r - (1/2) * ((sigma / 1.7320508075688772)**2))\n",
    "    \n",
    "    d1 = (Log(S0 / K) + (b + (1/2) * ((sigma / 1.7320508075688772)**2) ) * T)/ ((sigma / 1.7320508075688772) * Sqrt(T))\n",
    "    \n",
    "    d2 = d1 - (sigma / 1.7320508075688772)*Sqrt(T)\n",
    "    \n",
    "    return S0 * Exp((b - r) * T) * Cdf(d1) - K * Exp(-(1) * r * T) * Cdf(d2)"
   ]
  },
  {
   "cell_type": "code",
   "execution_count": 466,
   "metadata": {},
   "outputs": [],
   "source": [
    "S0_val = 100\n",
    "K_val = 100\n",
    "T_val = 1\n",
    "r_val = 0.07\n",
    "sigma_val = 0.2"
   ]
  },
  {
   "cell_type": "code",
   "execution_count": 467,
   "metadata": {},
   "outputs": [
    {
     "name": "stdout",
     "output_type": "stream",
     "text": [
      "Value of f equals 6.024544283554853\n",
      "The partial derivative of y with respect to S0 = 0.6063517314661314\n",
      "The partial derivative of y with respect to K = -0.546106288630583\n",
      "The partial derivative of y with respect to T = 3.596224538143864\n",
      "The partial derivative of y with respect to r = 24.29304228975174\n",
      "The partial derivative of y with respect to sigma = 18.95711577861243\n"
     ]
    }
   ],
   "source": [
    "S0 = Var(S0_val)\n",
    "K = Var(K_val)\n",
    "T = Var(T_val)\n",
    "r = Var(r_val)\n",
    "sigma = Var(sigma_val)\n",
    "\n",
    "y = BS_Price_Asian_Options(S0, K, T, r, sigma)\n",
    "\n",
    "gradients = Get_Gradient(y)\n",
    "\n",
    "print('Value of f equals', y.value)\n",
    "print('The partial derivative of y with respect to S0 =', gradients[S0])\n",
    "print('The partial derivative of y with respect to K =', gradients[K])\n",
    "print('The partial derivative of y with respect to T =', gradients[T])\n",
    "print('The partial derivative of y with respect to r =', gradients[r])\n",
    "print('The partial derivative of y with respect to sigma =', gradients[sigma])"
   ]
  },
  {
   "cell_type": "code",
   "execution_count": null,
   "metadata": {},
   "outputs": [],
   "source": []
  }
 ],
 "metadata": {
  "kernelspec": {
   "display_name": "Python 3",
   "language": "python",
   "name": "python3"
  },
  "language_info": {
   "codemirror_mode": {
    "name": "ipython",
    "version": 3
   },
   "file_extension": ".py",
   "mimetype": "text/x-python",
   "name": "python",
   "nbconvert_exporter": "python",
   "pygments_lexer": "ipython3",
   "version": "3.7.6"
  }
 },
 "nbformat": 4,
 "nbformat_minor": 4
}
