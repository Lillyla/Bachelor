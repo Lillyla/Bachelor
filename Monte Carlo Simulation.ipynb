{
 "cells": [
  {
   "cell_type": "markdown",
   "metadata": {},
   "source": [
    "# Bachelor 2021"
   ]
  },
  {
   "cell_type": "code",
   "execution_count": 142,
   "metadata": {},
   "outputs": [],
   "source": [
    "import numpy as np\n",
    "import random\n",
    "import matplotlib.pyplot as plt\n",
    "from scipy.stats import norm\n",
    "import scipy"
   ]
  },
  {
   "cell_type": "code",
   "execution_count": 306,
   "metadata": {},
   "outputs": [],
   "source": [
    "S = 100\n",
    "K = 100\n",
    "T = 1\n",
    "r = 0.07\n",
    "sigma = 0.2\n",
    "n_simulations = 5000\n",
    "n_steps = 252"
   ]
  },
  {
   "cell_type": "code",
   "execution_count": 307,
   "metadata": {},
   "outputs": [],
   "source": [
    "dt = T/n_steps\n",
    "mu = (r-(sigma**2)/2)*dt\n",
    "a = sigma*np.sqrt(dt)\n",
    "x = np.random.normal(0, 1, (n_simulations, n_steps))"
   ]
  },
  {
   "cell_type": "code",
   "execution_count": 309,
   "metadata": {},
   "outputs": [],
   "source": [
    "# Udvikling i prisen på det underliggende aktiv\n",
    "smat = np.zeros((n_simulations, n_steps))\n",
    "smat[:,0] += S\n",
    "for i in range(1, n_steps):\n",
    "    smat[:,i] += smat[:,i-1]*np.exp(mu+a*x[:,i])"
   ]
  },
  {
   "cell_type": "code",
   "execution_count": 279,
   "metadata": {},
   "outputs": [],
   "source": [
    "def geo_mean(iterable):\n",
    "    a = np.array(iterable)\n",
    "    return a.prod()**(1.0/len(a))\n",
    "\n",
    "def geo_mean_overflow(iterable):\n",
    "    a = np.log(iterable)\n",
    "    return np.exp(a.mean())"
   ]
  },
  {
   "cell_type": "code",
   "execution_count": 296,
   "metadata": {},
   "outputs": [],
   "source": [
    "# Gennemsnit af prisen på det underliggende aktiv per simulering\n",
    "avg = []\n",
    "for i in range(len(smat)):\n",
    "    avg.append(geo_mean_overflow(smat[i,:]))"
   ]
  },
  {
   "cell_type": "code",
   "execution_count": 298,
   "metadata": {},
   "outputs": [],
   "source": [
    "# Beregning af payoff for call\n",
    "q = []\n",
    "for i in range(len(avg)):\n",
    "    q.append(avg[i] - K)\n",
    "    if q[i] < 0:\n",
    "        q[i] = 0\n",
    "    else: \n",
    "        q[i] = q[i]"
   ]
  },
  {
   "cell_type": "code",
   "execution_count": 288,
   "metadata": {},
   "outputs": [],
   "source": [
    "# Beregning af payoff for put\n",
    "p = []\n",
    "for i in range(len(avg)):\n",
    "    p.append(K - avg[i])\n",
    "    if p[i] < 0:\n",
    "        p[i] = 0\n",
    "    else: \n",
    "        p[i]=p[i]"
   ]
  },
  {
   "cell_type": "code",
   "execution_count": 300,
   "metadata": {},
   "outputs": [],
   "source": [
    "# Gennemsnitligt payoff\n",
    "payoff_call = np.mean(q)\n",
    "payoff_put = np.mean(p)"
   ]
  },
  {
   "cell_type": "code",
   "execution_count": 301,
   "metadata": {},
   "outputs": [
    {
     "data": {
      "text/plain": [
       "5.675511874797314"
      ]
     },
     "execution_count": 301,
     "metadata": {},
     "output_type": "execute_result"
    }
   ],
   "source": [
    "payoff_call "
   ]
  },
  {
   "cell_type": "code",
   "execution_count": 302,
   "metadata": {},
   "outputs": [
    {
     "data": {
      "text/plain": [
       "3.190108904858605"
      ]
     },
     "execution_count": 302,
     "metadata": {},
     "output_type": "execute_result"
    }
   ],
   "source": [
    "payoff_put"
   ]
  },
  {
   "cell_type": "code",
   "execution_count": 303,
   "metadata": {},
   "outputs": [],
   "source": [
    "# Tilbagediskontering\n",
    "call = payoff_call*np.exp(-r*T)\n",
    "put = payoff_put*np.exp(-r*T)"
   ]
  },
  {
   "cell_type": "code",
   "execution_count": 304,
   "metadata": {},
   "outputs": [
    {
     "data": {
      "text/plain": [
       "5.291812196863837"
      ]
     },
     "execution_count": 304,
     "metadata": {},
     "output_type": "execute_result"
    }
   ],
   "source": [
    "call"
   ]
  },
  {
   "cell_type": "code",
   "execution_count": 305,
   "metadata": {},
   "outputs": [
    {
     "data": {
      "text/plain": [
       "2.9744378277170958"
      ]
     },
     "execution_count": 305,
     "metadata": {},
     "output_type": "execute_result"
    }
   ],
   "source": [
    "put"
   ]
  },
  {
   "cell_type": "markdown",
   "metadata": {},
   "source": [
    "**Tjek med Black-Scholes**"
   ]
  },
  {
   "attachments": {},
   "cell_type": "markdown",
   "metadata": {},
   "source": [
    "$C_G = S_0 e^{(b-r)T} \\Phi(d_1) - K e^{-rT}\\Phi(d_2)$\n",
    "\n",
    "$P_G = K e^{-rT}\\Phi(-d_2) - S_0 e^{(b-r)T} \\Phi(-d_1)$\n",
    "\n",
    "$b = \\frac{1}{2}(r-\\frac{1}{2} \\sigma_G^2)$\n",
    "\n",
    "$\\sigma_G = \\frac{\\sigma}{\\sqrt{3}}$\n",
    "\n",
    "$d_1 = \\frac{log(\\frac{S_0}{K})+(b+\\frac{1}{2}\\sigma_G^2)T}{\\sigma_G\\sqrt{T}}$\n",
    "\n",
    "$d_2 = d_1 - \\sigma_G \\sqrt{T}$"
   ]
  },
  {
   "cell_type": "code",
   "execution_count": 259,
   "metadata": {},
   "outputs": [],
   "source": [
    "b = (1/2)*(r-(1/2)*(sigma**2))\n",
    "\n",
    "sigma_G = sigma/np.sqrt(3)\n",
    "\n",
    "d1 = (np.log(S/K)+(b+1/2*(sigma_G**2))*T)/(sigma_G*np.sqrt(T))\n",
    "\n",
    "d2 = d1 - sigma_G*np.sqrt(T)\n",
    "\n",
    "C_G = S * np.exp((b-r)*T)*norm.cdf(d1) - K * np.exp(-r*T)*norm.cdf(d2)\n",
    "\n",
    "P_G = K * np.exp(-r*T)*norm.cdf(-d2) - S * np.exp((b-r)*T)*norm.cdf(-d1)"
   ]
  },
  {
   "cell_type": "code",
   "execution_count": 260,
   "metadata": {},
   "outputs": [
    {
     "data": {
      "text/plain": [
       "5.628658729354015"
      ]
     },
     "execution_count": 260,
     "metadata": {},
     "output_type": "execute_result"
    }
   ],
   "source": [
    "C_G"
   ]
  },
  {
   "cell_type": "code",
   "execution_count": 261,
   "metadata": {},
   "outputs": [
    {
     "data": {
      "text/plain": [
       "3.268292536638846"
      ]
     },
     "execution_count": 261,
     "metadata": {},
     "output_type": "execute_result"
    }
   ],
   "source": [
    "P_G"
   ]
  },
  {
   "cell_type": "code",
   "execution_count": null,
   "metadata": {},
   "outputs": [],
   "source": []
  }
 ],
 "metadata": {
  "kernelspec": {
   "display_name": "Python 3",
   "language": "python",
   "name": "python3"
  },
  "language_info": {
   "codemirror_mode": {
    "name": "ipython",
    "version": 3
   },
   "file_extension": ".py",
   "mimetype": "text/x-python",
   "name": "python",
   "nbconvert_exporter": "python",
   "pygments_lexer": "ipython3",
   "version": "3.8.5"
  }
 },
 "nbformat": 4,
 "nbformat_minor": 4
}
