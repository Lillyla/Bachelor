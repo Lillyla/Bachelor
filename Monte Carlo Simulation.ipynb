{
 "cells": [
  {
   "cell_type": "markdown",
   "metadata": {},
   "source": [
    "# Bachelor 2021"
   ]
  },
  {
   "cell_type": "code",
   "execution_count": 55,
   "metadata": {},
   "outputs": [],
   "source": [
    "import numpy as np\n",
    "import random\n",
    "import matplotlib.pyplot as plt\n",
    "from scipy.stats import norm\n",
    "import scipy"
   ]
  },
  {
   "cell_type": "code",
   "execution_count": 178,
   "metadata": {},
   "outputs": [],
   "source": [
    "S0 = 100\n",
    "K = 100\n",
    "T = 1\n",
    "r = 0.07\n",
    "sigma = 0.2\n",
    "n_simulations = 1000\n",
    "n_steps = 252"
   ]
  },
  {
   "cell_type": "code",
   "execution_count": 179,
   "metadata": {},
   "outputs": [],
   "source": [
    "def Geo_Mean(iterable):\n",
    "    temp = np.array(iterable)\n",
    "    return temp.prod()**(1.0/len(temp))\n",
    "\n",
    "def Geo_Mean_Overflow(iterable):\n",
    "    temp = np.log(iterable)\n",
    "    return np.exp(temp.mean())"
   ]
  },
  {
   "cell_type": "code",
   "execution_count": 267,
   "metadata": {},
   "outputs": [],
   "source": [
    "def Price_Asian_Option(S0, K, T, r, sigma, n_simulations, n_steps, Z):\n",
    "    # Udvikling i prisen på det underliggende aktiv\n",
    "    dt = T/n_steps\n",
    "    Z = np.random.normal(0,1,size=(n_simulations, n_steps))\n",
    "    S = np.zeros((n_simulations, n_steps))\n",
    "    S[:,0] += S0\n",
    "    for i in range(1, n_steps):\n",
    "        S[:,i] += S[:,i-1]*np.exp((r-(sigma**2)/2)*dt+sigma*np.sqrt(dt)*Z[:,i])\n",
    "    \n",
    "    ### Formel kommer fra Paul Glasserman, 2004, s. 94\n",
    "    ### Her skal evt. udvides med flere/andre processer ift. Geometrisk Brownian Motions\n",
    "\n",
    "    # Gennemsnit af prisen på det underliggende aktiv per simulering\n",
    "    avg = []\n",
    "    for i in range(len(S)):\n",
    "        avg.append(Geo_Mean_Overflow(S[i,:]))\n",
    "    \n",
    "    # Beregning af payoff for call\n",
    "    c = []\n",
    "    for i in range(len(avg)):\n",
    "        c.append(avg[i] - K)\n",
    "        c[i] = np.maximum(c[i], 0)\n",
    "\n",
    "    # Beregning af payoff for put\n",
    "    p = []\n",
    "    for i in range(len(avg)):\n",
    "        p.append(K - avg[i])\n",
    "        p[i] = np.maximum(p[i], 0)\n",
    "\n",
    "    # Gennemsnitligt payoff tilbagediskonteret\n",
    "    payoff_call = np.mean(c)*np.exp(-r*T)\n",
    "    payoff_put = np.mean(p)*np.exp(-r*T)\n",
    "    \n",
    "    return payoff_call, payoff_put\n"
   ]
  },
  {
   "cell_type": "code",
   "execution_count": 268,
   "metadata": {},
   "outputs": [
    {
     "ename": "TypeError",
     "evalue": "Price_Asian_Option() missing 1 required positional argument: 'Z'",
     "output_type": "error",
     "traceback": [
      "\u001b[1;31m---------------------------------------------------------------------------\u001b[0m",
      "\u001b[1;31mTypeError\u001b[0m                                 Traceback (most recent call last)",
      "\u001b[1;32m<ipython-input-268-47b96531b1ca>\u001b[0m in \u001b[0;36m<module>\u001b[1;34m\u001b[0m\n\u001b[1;32m----> 1\u001b[1;33m \u001b[0mPrice_Asian_Option\u001b[0m\u001b[1;33m(\u001b[0m\u001b[0mS0\u001b[0m\u001b[1;33m,\u001b[0m \u001b[0mK\u001b[0m\u001b[1;33m,\u001b[0m \u001b[0mT\u001b[0m\u001b[1;33m,\u001b[0m \u001b[0mr\u001b[0m\u001b[1;33m,\u001b[0m \u001b[0msigma\u001b[0m\u001b[1;33m,\u001b[0m \u001b[0mn_simulations\u001b[0m\u001b[1;33m,\u001b[0m \u001b[0mn_steps\u001b[0m\u001b[1;33m)\u001b[0m\u001b[1;33m\u001b[0m\u001b[1;33m\u001b[0m\u001b[0m\n\u001b[0m",
      "\u001b[1;31mTypeError\u001b[0m: Price_Asian_Option() missing 1 required positional argument: 'Z'"
     ]
    }
   ],
   "source": [
    "Price_Asian_Option(S0, K, T, r, sigma, n_simulations, n_steps)"
   ]
  },
  {
   "cell_type": "code",
   "execution_count": null,
   "metadata": {},
   "outputs": [],
   "source": []
  },
  {
   "cell_type": "code",
   "execution_count": 264,
   "metadata": {},
   "outputs": [],
   "source": [
    "# Udvikling i prisen på det underliggende aktiv\n",
    "dt = T/n_steps\n",
    "Z = np.random.normal(0,1,size=(n_simulations, n_steps))\n",
    "S = np.zeros((n_simulations, n_steps))\n",
    "S[:,0] += S0\n",
    "for i in range(1, n_steps):\n",
    "    S[:,i] += S[:,i-1]*np.exp((r-(sigma**2)/2)*dt+sigma*np.sqrt(dt)*Z[:,i])\n",
    "\n",
    "### Formel kommer fra Paul Glasserman, 2004, s. 94\n",
    "### Her skal evt. udvides med flere/andre processer ift. Geometrisk Brownian Motions\n",
    "\n",
    "\n",
    "# Gennemsnit af prisen på det underliggende aktiv per simulering\n",
    "avg = []\n",
    "for i in range(len(S)):\n",
    "    avg.append(Geo_Mean_Overflow(S[i,:]))\n",
    "    \n",
    "# Beregning af payoff for call\n",
    "c = []\n",
    "for i in range(len(avg)):\n",
    "    c.append(avg[i] - K)\n",
    "    c[i] = np.maximum(c[i], 0)\n",
    "\n",
    "# Beregning af payoff for put\n",
    "p = []\n",
    "for i in range(len(avg)):\n",
    "    p.append(K - avg[i])\n",
    "    p[i] = np.maximum(p[i], 0)\n",
    "\n",
    "# Gennemsnitligt payoff\n",
    "payoff_call = np.mean(c)\n",
    "payoff_put = np.mean(p)\n",
    "\n",
    "# Tilbagediskontering\n",
    "call = payoff_call*np.exp(-r*T)\n",
    "put = payoff_put*np.exp(-r*T)"
   ]
  },
  {
   "cell_type": "code",
   "execution_count": 265,
   "metadata": {},
   "outputs": [
    {
     "data": {
      "text/plain": [
       "6.028153201521012"
      ]
     },
     "execution_count": 265,
     "metadata": {},
     "output_type": "execute_result"
    }
   ],
   "source": [
    "call"
   ]
  },
  {
   "cell_type": "code",
   "execution_count": 266,
   "metadata": {},
   "outputs": [
    {
     "data": {
      "text/plain": [
       "2.9212784580529614"
      ]
     },
     "execution_count": 266,
     "metadata": {},
     "output_type": "execute_result"
    }
   ],
   "source": [
    "put"
   ]
  },
  {
   "cell_type": "markdown",
   "metadata": {},
   "source": [
    "**Tjek med Black-Scholes**"
   ]
  },
  {
   "cell_type": "markdown",
   "metadata": {},
   "source": [
    "$C_G = S_0 e^{(b-r)T} \\Phi(d_1) - K e^{-rT}\\Phi(d_2)$\n",
    "\n",
    "$P_G = K e^{-rT}\\Phi(-d_2) - S_0 e^{(b-r)T} \\Phi(-d_1)$\n",
    "\n",
    "$\\sigma_G = \\frac{\\sigma}{\\sqrt{3}}$\n",
    "\n",
    "$b = \\frac{1}{2}(r-\\frac{1}{2} \\sigma_G^2)$\n",
    "\n",
    "$d_1 = \\frac{log(\\frac{S_0}{K})+(b+\\frac{1}{2}\\sigma_G^2)T}{\\sigma_G\\sqrt{T}}$\n",
    "\n",
    "$d_2 = d_1 - \\sigma_G \\sqrt{T}$"
   ]
  },
  {
   "cell_type": "code",
   "execution_count": 190,
   "metadata": {},
   "outputs": [],
   "source": [
    "sigma_G = sigma/np.sqrt(3)\n",
    "\n",
    "b = (1/2)*(r-(1/2)*(sigma_G**2))\n",
    "\n",
    "d1 = (np.log(S0/K)+(b+1/2*(sigma_G**2))*T)/(sigma_G*np.sqrt(T))\n",
    "\n",
    "d2 = d1 - sigma_G*np.sqrt(T)\n",
    "\n",
    "C_G = S0*np.exp((b-r)*T)*norm.cdf(d1) - K*np.exp(-r*T)*norm.cdf(d2)\n",
    "\n",
    "P_G = K*np.exp(-r*T)*norm.cdf(-d2) - S0*np.exp((b-r)*T)*norm.cdf(-d1)"
   ]
  },
  {
   "cell_type": "code",
   "execution_count": 191,
   "metadata": {},
   "outputs": [
    {
     "data": {
      "text/plain": [
       "6.024544283554853"
      ]
     },
     "execution_count": 191,
     "metadata": {},
     "output_type": "execute_result"
    }
   ],
   "source": [
    "C_G"
   ]
  },
  {
   "cell_type": "code",
   "execution_count": 192,
   "metadata": {},
   "outputs": [
    {
     "data": {
      "text/plain": [
       "3.024717268581746"
      ]
     },
     "execution_count": 192,
     "metadata": {},
     "output_type": "execute_result"
    }
   ],
   "source": [
    "P_G"
   ]
  },
  {
   "cell_type": "code",
   "execution_count": null,
   "metadata": {},
   "outputs": [],
   "source": []
  }
 ],
 "metadata": {
  "kernelspec": {
   "display_name": "Python 3",
   "language": "python",
   "name": "python3"
  },
  "language_info": {
   "codemirror_mode": {
    "name": "ipython",
    "version": 3
   },
   "file_extension": ".py",
   "mimetype": "text/x-python",
   "name": "python",
   "nbconvert_exporter": "python",
   "pygments_lexer": "ipython3",
   "version": "3.8.5"
  }
 },
 "nbformat": 4,
 "nbformat_minor": 4
}
