{
 "cells": [
  {
   "cell_type": "markdown",
   "metadata": {},
   "source": [
    "# Bachelor 2021"
   ]
  },
  {
   "cell_type": "code",
   "execution_count": 40,
   "metadata": {},
   "outputs": [],
   "source": [
    "import numpy as np\n",
    "import random\n",
    "import matplotlib.pyplot as plt\n",
    "from scipy.stats import norm\n",
    "import scipy"
   ]
  },
  {
   "cell_type": "code",
   "execution_count": 66,
   "metadata": {},
   "outputs": [],
   "source": [
    "S0 = 100\n",
    "K = 100\n",
    "T = 1\n",
    "r = 0.07\n",
    "sigma = 0.2\n",
    "n_simulations = 1000000\n",
    "n_steps = 252"
   ]
  },
  {
   "cell_type": "code",
   "execution_count": 42,
   "metadata": {},
   "outputs": [],
   "source": [
    "def Geo_Mean(iterable):\n",
    "    temp = np.array(iterable)\n",
    "    return temp.prod()**(1.0/len(temp))\n",
    "\n",
    "def Geo_Mean_Overflow(iterable):\n",
    "    temp = np.log(iterable)\n",
    "    return np.exp(temp.mean())"
   ]
  },
  {
   "cell_type": "code",
   "execution_count": 43,
   "metadata": {},
   "outputs": [],
   "source": [
    "def Price_Asian_Option(S0, K, T, r, sigma, n_simulations, n_steps):\n",
    "    # Udvikling i prisen på det underliggende aktiv\n",
    "    dt = T/n_steps\n",
    "    Z = np.random.normal(0,1,size=(n_simulations, n_steps))\n",
    "    S = np.zeros((n_simulations, n_steps))\n",
    "    S[:,0] += S0\n",
    "    for i in range(1, n_steps):\n",
    "        S[:,i] += S[:,i-1]*np.exp((r-(sigma**2)/2)*dt+sigma*np.sqrt(dt)*Z[:,i])\n",
    "    \n",
    "    ### Formel kommer fra Paul Glasserman, 2004, s. 94\n",
    "    ### Her skal evt. udvides med flere/andre processer ift. exercise undervejs \n",
    "\n",
    "    # Gennemsnit af prisen på det underliggende aktiv per simulering\n",
    "    avg = []\n",
    "    for i in range(len(S)):\n",
    "        avg.append(Geo_Mean_Overflow(S[i,:]))\n",
    "    \n",
    "    # Beregning af payoff for call\n",
    "    c = []\n",
    "    for i in range(len(avg)):\n",
    "        c.append(avg[i] - K)\n",
    "        c[i] = np.maximum(c[i], 0)\n",
    "\n",
    "    # Beregning af payoff for put\n",
    "    p = []\n",
    "    for i in range(len(avg)):\n",
    "        p.append(K - avg[i])\n",
    "        p[i] = np.maximum(p[i], 0)\n",
    "\n",
    "    # Gennemsnitligt payoff tilbagediskonteret\n",
    "    payoff_call = np.mean(c)*np.exp(-r*T)\n",
    "    payoff_put = np.mean(p)*np.exp(-r*T)\n",
    "    \n",
    "    return payoff_call, payoff_put\n"
   ]
  },
  {
   "cell_type": "code",
   "execution_count": 56,
   "metadata": {},
   "outputs": [],
   "source": [
    "def Price_European_Option(S0, K, T, r, sigma, n_simulations, n_steps):\n",
    "    # Udvikling i prisen på det underliggende aktiv\n",
    "    dt = T/n_steps\n",
    "    Z = np.random.normal(0,1,size=(n_simulations, n_steps))\n",
    "    S = np.zeros((n_simulations, n_steps))\n",
    "    S[:,0] += S0\n",
    "    for i in range(1, n_steps):\n",
    "        S[:,i] += S[:,i-1]*np.exp((r-(sigma**2)/2)*dt+sigma*np.sqrt(dt)*Z[:,i])\n",
    "    \n",
    "    # Beregning af payoff for call\n",
    "    c = S[:,-1] - K\n",
    "    for i in range(len(c)):\n",
    "        c[i] = np.maximum(c[i], 0)\n",
    "\n",
    "    # Beregning af payoff for put\n",
    "    p = K - S[:,-1]\n",
    "    for i in range(len(p)):\n",
    "        p[i] = np.maximum(p[i], 0)\n",
    "\n",
    "    # Gennemsnitligt payoff tilbagediskonteret\n",
    "    payoff_call = np.mean(c)*np.exp(-r*T)\n",
    "    payoff_put = np.mean(p)*np.exp(-r*T)\n",
    "    \n",
    "    return payoff_call, payoff_put"
   ]
  },
  {
   "cell_type": "code",
   "execution_count": null,
   "metadata": {},
   "outputs": [],
   "source": []
  },
  {
   "cell_type": "code",
   "execution_count": 67,
   "metadata": {},
   "outputs": [
    {
     "ename": "KeyboardInterrupt",
     "evalue": "",
     "output_type": "error",
     "traceback": [
      "\u001b[1;31m---------------------------------------------------------------------------\u001b[0m",
      "\u001b[1;31mKeyboardInterrupt\u001b[0m                         Traceback (most recent call last)",
      "\u001b[1;32m<ipython-input-67-47b96531b1ca>\u001b[0m in \u001b[0;36m<module>\u001b[1;34m\u001b[0m\n\u001b[1;32m----> 1\u001b[1;33m \u001b[0mPrice_Asian_Option\u001b[0m\u001b[1;33m(\u001b[0m\u001b[0mS0\u001b[0m\u001b[1;33m,\u001b[0m \u001b[0mK\u001b[0m\u001b[1;33m,\u001b[0m \u001b[0mT\u001b[0m\u001b[1;33m,\u001b[0m \u001b[0mr\u001b[0m\u001b[1;33m,\u001b[0m \u001b[0msigma\u001b[0m\u001b[1;33m,\u001b[0m \u001b[0mn_simulations\u001b[0m\u001b[1;33m,\u001b[0m \u001b[0mn_steps\u001b[0m\u001b[1;33m)\u001b[0m\u001b[1;33m\u001b[0m\u001b[1;33m\u001b[0m\u001b[0m\n\u001b[0m",
      "\u001b[1;32m<ipython-input-43-3c912ff80f73>\u001b[0m in \u001b[0;36mPrice_Asian_Option\u001b[1;34m(S0, K, T, r, sigma, n_simulations, n_steps)\u001b[0m\n\u001b[0;32m      6\u001b[0m     \u001b[0mS\u001b[0m\u001b[1;33m[\u001b[0m\u001b[1;33m:\u001b[0m\u001b[1;33m,\u001b[0m\u001b[1;36m0\u001b[0m\u001b[1;33m]\u001b[0m \u001b[1;33m+=\u001b[0m \u001b[0mS0\u001b[0m\u001b[1;33m\u001b[0m\u001b[1;33m\u001b[0m\u001b[0m\n\u001b[0;32m      7\u001b[0m     \u001b[1;32mfor\u001b[0m \u001b[0mi\u001b[0m \u001b[1;32min\u001b[0m \u001b[0mrange\u001b[0m\u001b[1;33m(\u001b[0m\u001b[1;36m1\u001b[0m\u001b[1;33m,\u001b[0m \u001b[0mn_steps\u001b[0m\u001b[1;33m)\u001b[0m\u001b[1;33m:\u001b[0m\u001b[1;33m\u001b[0m\u001b[1;33m\u001b[0m\u001b[0m\n\u001b[1;32m----> 8\u001b[1;33m         \u001b[0mS\u001b[0m\u001b[1;33m[\u001b[0m\u001b[1;33m:\u001b[0m\u001b[1;33m,\u001b[0m\u001b[0mi\u001b[0m\u001b[1;33m]\u001b[0m \u001b[1;33m+=\u001b[0m \u001b[0mS\u001b[0m\u001b[1;33m[\u001b[0m\u001b[1;33m:\u001b[0m\u001b[1;33m,\u001b[0m\u001b[0mi\u001b[0m\u001b[1;33m-\u001b[0m\u001b[1;36m1\u001b[0m\u001b[1;33m]\u001b[0m\u001b[1;33m*\u001b[0m\u001b[0mnp\u001b[0m\u001b[1;33m.\u001b[0m\u001b[0mexp\u001b[0m\u001b[1;33m(\u001b[0m\u001b[1;33m(\u001b[0m\u001b[0mr\u001b[0m\u001b[1;33m-\u001b[0m\u001b[1;33m(\u001b[0m\u001b[0msigma\u001b[0m\u001b[1;33m**\u001b[0m\u001b[1;36m2\u001b[0m\u001b[1;33m)\u001b[0m\u001b[1;33m/\u001b[0m\u001b[1;36m2\u001b[0m\u001b[1;33m)\u001b[0m\u001b[1;33m*\u001b[0m\u001b[0mdt\u001b[0m\u001b[1;33m+\u001b[0m\u001b[0msigma\u001b[0m\u001b[1;33m*\u001b[0m\u001b[0mnp\u001b[0m\u001b[1;33m.\u001b[0m\u001b[0msqrt\u001b[0m\u001b[1;33m(\u001b[0m\u001b[0mdt\u001b[0m\u001b[1;33m)\u001b[0m\u001b[1;33m*\u001b[0m\u001b[0mZ\u001b[0m\u001b[1;33m[\u001b[0m\u001b[1;33m:\u001b[0m\u001b[1;33m,\u001b[0m\u001b[0mi\u001b[0m\u001b[1;33m]\u001b[0m\u001b[1;33m)\u001b[0m\u001b[1;33m\u001b[0m\u001b[1;33m\u001b[0m\u001b[0m\n\u001b[0m\u001b[0;32m      9\u001b[0m \u001b[1;33m\u001b[0m\u001b[0m\n\u001b[0;32m     10\u001b[0m     \u001b[1;31m### Formel kommer fra Paul Glasserman, 2004, s. 94\u001b[0m\u001b[1;33m\u001b[0m\u001b[1;33m\u001b[0m\u001b[1;33m\u001b[0m\u001b[0m\n",
      "\u001b[1;31mKeyboardInterrupt\u001b[0m: "
     ]
    }
   ],
   "source": [
    "Price_Asian_Option(S0, K, T, r, sigma, n_simulations, n_steps)"
   ]
  },
  {
   "cell_type": "code",
   "execution_count": null,
   "metadata": {},
   "outputs": [],
   "source": [
    "Price_European_Option(S0, K, T, r, sigma, n_simulations, n_steps)"
   ]
  },
  {
   "cell_type": "code",
   "execution_count": null,
   "metadata": {},
   "outputs": [],
   "source": []
  },
  {
   "cell_type": "markdown",
   "metadata": {},
   "source": [
    "**Tjek med Black-Scholes**"
   ]
  },
  {
   "cell_type": "markdown",
   "metadata": {},
   "source": [
    "$C_G = S_0 e^{(b-r)T} \\Phi(d_1) - K e^{-rT}\\Phi(d_2)$\n",
    "\n",
    "$P_G = K e^{-rT}\\Phi(-d_2) - S_0 e^{(b-r)T} \\Phi(-d_1)$\n",
    "\n",
    "$\\sigma_G = \\frac{\\sigma}{\\sqrt{3}}$\n",
    "\n",
    "$b = \\frac{1}{2}(r-\\frac{1}{2} \\sigma_G^2)$\n",
    "\n",
    "$d_1 = \\frac{log(\\frac{S_0}{K})+(b+\\frac{1}{2}\\sigma_G^2)T}{\\sigma_G\\sqrt{T}}$\n",
    "\n",
    "$d_2 = d_1 - \\sigma_G \\sqrt{T}$"
   ]
  },
  {
   "cell_type": "code",
   "execution_count": null,
   "metadata": {},
   "outputs": [],
   "source": [
    "def BS_Price_Asian_Options(S0, K, T, r, sigma): \n",
    "    sigma_G = sigma/np.sqrt(3)\n",
    "    b = (1/2)*(r-(1/2)*(sigma_G**2))\n",
    "    d1 = (np.log(S0/K)+(b+1/2*(sigma_G**2))*T)/(sigma_G*np.sqrt(T))\n",
    "    d2 = d1 - sigma_G*np.sqrt(T)\n",
    "\n",
    "    asian_call = S0*np.exp((b-r)*T)*norm.cdf(d1) - K*np.exp(-r*T)*norm.cdf(d2)\n",
    "    asian_put = K*np.exp(-r*T)*norm.cdf(-d2) - S0*np.exp((b-r)*T)*norm.cdf(-d1)\n",
    "    \n",
    "    return asian_call, asian_put"
   ]
  },
  {
   "cell_type": "code",
   "execution_count": null,
   "metadata": {},
   "outputs": [],
   "source": [
    "BS_Price_Asian_Options(S0, K, T, r, sigma)"
   ]
  },
  {
   "cell_type": "code",
   "execution_count": null,
   "metadata": {},
   "outputs": [],
   "source": [
    "def BS_Price_European_Options(S0, K, T, r, sigma): \n",
    "    d1 = (np.log(S0/K)+(r+1/2*(sigma**2))*T)/(sigma*np.sqrt(T))\n",
    "    d2 = d1 - sigma*np.sqrt(T)\n",
    "\n",
    "    euro_call = S0*norm.cdf(d1) - K*np.exp(-r*T)*norm.cdf(d2)\n",
    "    euro_put = K*np.exp(-r*T)*norm.cdf(-d2) - S0*norm.cdf(-d1)\n",
    "    \n",
    "    return euro_call, euro_put"
   ]
  },
  {
   "cell_type": "code",
   "execution_count": null,
   "metadata": {},
   "outputs": [],
   "source": [
    "BS_Price_European_Options(S0, K, T, r, sigma)"
   ]
  },
  {
   "cell_type": "code",
   "execution_count": null,
   "metadata": {},
   "outputs": [],
   "source": []
  },
  {
   "cell_type": "code",
   "execution_count": null,
   "metadata": {},
   "outputs": [],
   "source": []
  },
  {
   "cell_type": "code",
   "execution_count": 50,
   "metadata": {},
   "outputs": [],
   "source": []
  },
  {
   "cell_type": "code",
   "execution_count": null,
   "metadata": {},
   "outputs": [],
   "source": []
  },
  {
   "cell_type": "code",
   "execution_count": null,
   "metadata": {},
   "outputs": [],
   "source": []
  },
  {
   "cell_type": "code",
   "execution_count": 3,
   "metadata": {},
   "outputs": [],
   "source": [
    "import numpy as np\n",
    "from scipy.special import erf\n",
    "\n",
    "\n",
    "class AsianOptionMC_MC(object):\n",
    "    \"\"\" Class for Asian options pricing using control variate\n",
    "    S0 : float : initial stock/index level\n",
    "    strike : float : strike price\n",
    "    T : float : time to maturity (in year fractions)\n",
    "    M : int : grid or granularity for time (in number of total points)\n",
    "    r : float : constant risk-free short rate\n",
    "    div :    float : dividend yield\n",
    "    sigma :  float : volatility factor in diffusion term \n",
    "    \n",
    "    Unitest (doctest):\n",
    "    >>> myAsianCall = AsianOptionMC_MC('call', 4., 4., 1., 100., .03, 0, .25, 10000)\n",
    "    >>> myAsianCall.value\n",
    "    (0.26141622329842962, 0.25359138249114327, 0.26924106410571597)\n",
    "    >>> myAsianCall.value_with_control_variate\n",
    "    (0.25813771282805958, 0.25771678775128265, 0.25855863790483652)\n",
    "    \n",
    "    \"\"\"\n",
    "\n",
    "    def __init__(self, option_type, S0, strike, T, M, r, div, sigma, simulations):\n",
    "        try:\n",
    "            self.option_type = option_type\n",
    "            assert isinstance(option_type, str)\n",
    "            self.S0 = float(S0)\n",
    "            self.strike = float(strike)\n",
    "            self.T = float(T)\n",
    "            self.M = int(M)\n",
    "            self.r = float(r)\n",
    "            self.div = float(div)\n",
    "            self.sigma = float(sigma)\n",
    "            self.simulations = int(simulations)\n",
    "        except ValueError:\n",
    "            print('Error passing Options parameters')\n",
    "\n",
    "        if option_type != 'call' and option_type != 'put':\n",
    "            raise ValueError(\"Error: option type not valid. Enter 'call' or 'put'\")\n",
    "        if S0 < 0 or strike < 0 or T <= 0 or r < 0 or div < 0 or sigma < 0:\n",
    "            raise ValueError('Error: Negative inputs not allowed')\n",
    "\n",
    "        self.time_unit = self.T / float(self.M)\n",
    "        self.discount = np.exp(- self.r * self.T)\n",
    "\n",
    "    @property\n",
    "    def GeometricAsianOption(self):\n",
    "        sigsqT = ((self.sigma ** 2 * self.T * (self.M + 1) * (2 * self.M + 1))\n",
    "                  / (6 * self.M * self.M))\n",
    "        muT = (0.5 * sigsqT + (self.r - 0.5 * self.sigma ** 2)\n",
    "               * self.T * (self.M + 1) / (2 * self.M))\n",
    "        d1 = ((np.log(self.S0 / self.strike) + (muT + 0.5 * sigsqT))\n",
    "              / np.sqrt(sigsqT))\n",
    "        d2 = d1 - np.sqrt(sigsqT)\n",
    "        N1 = 0.5 * (1 + erf(d1 / np.sqrt(2)))\n",
    "        N2 = 0.5 * (1 + erf(d2 / np.sqrt(2)))\n",
    "        geometric_value = self.discount * (self.S0 * np.exp(muT) * N1 - self.strike * N2)\n",
    "        return geometric_value\n",
    "\n",
    "    @property\n",
    "    def price_path(self, seed = 100):\n",
    "        np.random.seed(seed)\n",
    "        price_path = (self.S0 *\n",
    "                      np.cumprod (np.exp ((self.r - 0.5 * self.sigma ** 2) * self.time_unit +\n",
    "                                    self.sigma * np.sqrt(self.time_unit) \n",
    "                                          * np.random.randn(self.simulations, self.M)), 1))\n",
    "        return price_path\n",
    "\n",
    "    @property\n",
    "    def MCPayoff(self): \n",
    "        if self.option_type == 'call':\n",
    "            MCpayoff = self.discount \\\n",
    "                              * np.maximum(np.mean(self.price_path,1)-self.strike, 0)\n",
    "        else:\n",
    "            MCpayoff = self.discount \\\n",
    "                              * np.maximum(self.strike - np.mean(self.price_path,1), 0)\n",
    "        return MCpayoff\n",
    "    \n",
    "    @property \n",
    "    def value(self):\n",
    "        MCvalue = np.mean(self.MCPayoff)\n",
    "        MCValue_std = np.std(self.MCPayoff)\n",
    "        upper_bound = MCvalue + 1.96 * MCValue_std/np.sqrt(self.simulations)\n",
    "        lower_bound = MCvalue - 1.96 * MCValue_std/np.sqrt(self.simulations)\n",
    "        return MCvalue, lower_bound, upper_bound\n",
    "    \n",
    "    @property\n",
    "    def value_with_control_variate(self):\n",
    "        \n",
    "        geometric_average = np.exp( (1/float(self.M)) * np.sum(np.log(self.price_path), 1) )\n",
    "        if self.option_type == 'call':\n",
    "            MCpayoff_geometric = self.discount * np.maximum(geometric_average - self.strike, 0)\n",
    "        else:\n",
    "            MCpayoff_geometric = self.discount * np.maximum(self.strike - geometric_average, 0)\n",
    "        value_with_CV = self.MCPayoff + self.GeometricAsianOption - MCpayoff_geometric        \n",
    "        value_with_control_variate = np.mean(value_with_CV , 0)\n",
    "        value_with_control_variate_std = np.std(value_with_CV, 0)\n",
    "        upper_bound_CV = value_with_control_variate + 1.96 * value_with_control_variate_std/np.sqrt(self.simulations)\n",
    "        lower_bound_CV = value_with_control_variate - 1.96 * value_with_control_variate_std/np.sqrt(self.simulations)        \n",
    "        return value_with_control_variate, lower_bound_CV, upper_bound_CV"
   ]
  },
  {
   "cell_type": "code",
   "execution_count": 21,
   "metadata": {},
   "outputs": [],
   "source": [
    "myAsianCall = AsianOptionMC_MC('call', 100, 100, 1., 252, 0.07, 0, 0.2, 1000000)"
   ]
  },
  {
   "cell_type": "code",
   "execution_count": 23,
   "metadata": {},
   "outputs": [
    {
     "data": {
      "text/plain": [
       "(6.276606071513878, 6.260472520055055, 6.2927396229727)"
      ]
     },
     "execution_count": 23,
     "metadata": {},
     "output_type": "execute_result"
    }
   ],
   "source": [
    "myAsianCall.value"
   ]
  },
  {
   "cell_type": "code",
   "execution_count": 24,
   "metadata": {},
   "outputs": [
    {
     "data": {
      "text/plain": [
       "6.045455740215413"
      ]
     },
     "execution_count": 24,
     "metadata": {},
     "output_type": "execute_result"
    }
   ],
   "source": [
    "myAsianCall.GeometricAsianOption"
   ]
  },
  {
   "cell_type": "code",
   "execution_count": null,
   "metadata": {},
   "outputs": [],
   "source": []
  },
  {
   "cell_type": "code",
   "execution_count": null,
   "metadata": {},
   "outputs": [],
   "source": []
  },
  {
   "cell_type": "code",
   "execution_count": null,
   "metadata": {},
   "outputs": [],
   "source": []
  }
 ],
 "metadata": {
  "kernelspec": {
   "display_name": "Python 3",
   "language": "python",
   "name": "python3"
  },
  "language_info": {
   "codemirror_mode": {
    "name": "ipython",
    "version": 3
   },
   "file_extension": ".py",
   "mimetype": "text/x-python",
   "name": "python",
   "nbconvert_exporter": "python",
   "pygments_lexer": "ipython3",
   "version": "3.8.5"
  }
 },
 "nbformat": 4,
 "nbformat_minor": 4
}
