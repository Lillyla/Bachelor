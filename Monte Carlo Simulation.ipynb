{
 "cells": [
  {
   "cell_type": "markdown",
   "metadata": {},
   "source": [
    "# Bachelor 2021"
   ]
  },
  {
   "cell_type": "code",
   "execution_count": 142,
   "metadata": {},
   "outputs": [],
   "source": [
    "import numpy as np\n",
    "import random\n",
    "import matplotlib.pyplot as plt\n",
    "from scipy.stats import norm\n",
    "import scipy"
   ]
  },
  {
   "cell_type": "code",
   "execution_count": 594,
   "metadata": {},
   "outputs": [],
   "source": [
    "S0 = 100\n",
    "K = 100\n",
    "T = 1\n",
    "r = 0.07\n",
    "sigma = 0.2\n",
    "n_simulations = 1000000\n",
    "n_steps = 252"
   ]
  },
  {
   "cell_type": "code",
   "execution_count": null,
   "metadata": {},
   "outputs": [],
   "source": [
    "dt = T/n_steps\n",
    "mu = (r-(sigma**2)/2)*dt\n",
    "a = sigma*np.sqrt(dt)\n",
    "x = np.random.normal(0,1,(n_simulations, n_steps))\n",
    "# Her skal evt. udvides med flere/andre processer ift. Geometrisk Brownian Motions\n",
    "# Formel kommer fra Paul Glasserman, 2004, s. 94"
   ]
  },
  {
   "cell_type": "code",
   "execution_count": 595,
   "metadata": {},
   "outputs": [],
   "source": [
    "def geo_mean(iterable):\n",
    "    temp = np.array(iterable)\n",
    "    return temp.prod()**(1.0/len(temp))\n",
    "\n",
    "def geo_mean_overflow(iterable):\n",
    "    temp = np.log(iterable)\n",
    "    return np.exp(temp.mean())"
   ]
  },
  {
   "cell_type": "code",
   "execution_count": 596,
   "metadata": {},
   "outputs": [],
   "source": [
    "# Udvikling i prisen på det underliggende aktiv\n",
    "smat = np.zeros((n_simulations, n_steps))\n",
    "smat[:,0] += S0\n",
    "for i in range(1, n_steps):\n",
    "    smat[:,i] += smat[:,i-1]*np.exp(mu+a*x[:,i])\n",
    "\n",
    "# Gennemsnit af prisen på det underliggende aktiv per simulering\n",
    "avg = []\n",
    "for i in range(len(smat)):\n",
    "    avg.append(geo_mean_overflow(smat[i,:]))\n",
    "    \n",
    "# Beregning af payoff for call\n",
    "c = []\n",
    "for i in range(len(avg)):\n",
    "    c.append(avg[i] - K)\n",
    "    if c[i] < 0:\n",
    "        c[i] = 0\n",
    "    else: \n",
    "        c[i] = c[i]\n",
    "\n",
    "# Beregning af payoff for put\n",
    "p = []\n",
    "for i in range(len(avg)):\n",
    "    p.append(K - avg[i])\n",
    "    if p[i] < 0:\n",
    "        p[i] = 0\n",
    "    else: \n",
    "        p[i] = p[i]\n",
    "\n",
    "# Gennemsnitligt payoff\n",
    "payoff_call = np.mean(c)\n",
    "payoff_put = np.mean(p)\n",
    "\n",
    "# Tilbagediskontering\n",
    "call = payoff_call*np.exp(-r*T)\n",
    "put = payoff_put*np.exp(-r*T)"
   ]
  },
  {
   "cell_type": "code",
   "execution_count": 605,
   "metadata": {},
   "outputs": [
    {
     "data": {
      "text/plain": [
       "6.0015919581525825"
      ]
     },
     "execution_count": 605,
     "metadata": {},
     "output_type": "execute_result"
    }
   ],
   "source": [
    "call"
   ]
  },
  {
   "cell_type": "code",
   "execution_count": 606,
   "metadata": {},
   "outputs": [
    {
     "data": {
      "text/plain": [
       "3.018142411329767"
      ]
     },
     "execution_count": 606,
     "metadata": {},
     "output_type": "execute_result"
    }
   ],
   "source": [
    "put"
   ]
  },
  {
   "cell_type": "markdown",
   "metadata": {},
   "source": [
    "**Tjek med Black-Scholes**"
   ]
  },
  {
   "attachments": {},
   "cell_type": "markdown",
   "metadata": {},
   "source": [
    "$C_G = S_0 e^{(b-r)T} \\Phi(d_1) - K e^{-rT}\\Phi(d_2)$\n",
    "\n",
    "$P_G = K e^{-rT}\\Phi(-d_2) - S_0 e^{(b-r)T} \\Phi(-d_1)$\n",
    "\n",
    "$\\sigma_G = \\frac{\\sigma}{\\sqrt{3}}$\n",
    "\n",
    "$b = \\frac{1}{2}(r-\\frac{1}{2} \\sigma_G^2)$\n",
    "\n",
    "$d_1 = \\frac{log(\\frac{S_0}{K})+(b+\\frac{1}{2}\\sigma_G^2)T}{\\sigma_G\\sqrt{T}}$\n",
    "\n",
    "$d_2 = d_1 - \\sigma_G \\sqrt{T}$"
   ]
  },
  {
   "cell_type": "code",
   "execution_count": 602,
   "metadata": {},
   "outputs": [],
   "source": [
    "sigma_G = sigma/np.sqrt(3)\n",
    "\n",
    "b = (1/2)*(r-(1/2)*(sigma_G**2))\n",
    "\n",
    "d1 = (np.log(S0/K)+(b+1/2*(sigma_G**2))*T)/(sigma_G*np.sqrt(T))\n",
    "\n",
    "d2 = d1 - sigma_G*np.sqrt(T)\n",
    "\n",
    "C_G = S0*np.exp((b-r)*T)*norm.cdf(d1) - K*np.exp(-r*T)*norm.cdf(d2)\n",
    "\n",
    "P_G = K*np.exp(-r*T)*norm.cdf(-d2) - S0*np.exp((b-r)*T)*norm.cdf(-d1)"
   ]
  },
  {
   "cell_type": "code",
   "execution_count": 603,
   "metadata": {},
   "outputs": [
    {
     "data": {
      "text/plain": [
       "6.024544283554853"
      ]
     },
     "execution_count": 603,
     "metadata": {},
     "output_type": "execute_result"
    }
   ],
   "source": [
    "C_G"
   ]
  },
  {
   "cell_type": "code",
   "execution_count": 604,
   "metadata": {},
   "outputs": [
    {
     "data": {
      "text/plain": [
       "3.024717268581746"
      ]
     },
     "execution_count": 604,
     "metadata": {},
     "output_type": "execute_result"
    }
   ],
   "source": [
    "P_G"
   ]
  },
  {
   "cell_type": "code",
   "execution_count": null,
   "metadata": {},
   "outputs": [],
   "source": []
  }
 ],
 "metadata": {
  "kernelspec": {
   "display_name": "Python 3",
   "language": "python",
   "name": "python3"
  },
  "language_info": {
   "codemirror_mode": {
    "name": "ipython",
    "version": 3
   },
   "file_extension": ".py",
   "mimetype": "text/x-python",
   "name": "python",
   "nbconvert_exporter": "python",
   "pygments_lexer": "ipython3",
   "version": "3.8.5"
  }
 },
 "nbformat": 4,
 "nbformat_minor": 4
}
